{
 "cells": [
  {
   "cell_type": "code",
   "execution_count": 7,
   "metadata": {},
   "outputs": [
    {
     "name": "stdout",
     "output_type": "stream",
     "text": [
      "Saved: Hourly_Partitions\\2020-01-27_00.csv\n",
      "Saved: Hourly_Partitions\\2020-01-27_01.csv\n",
      "Saved: Hourly_Partitions\\2020-01-27_02.csv\n",
      "Saved: Hourly_Partitions\\2020-01-27_03.csv\n",
      "Saved: Hourly_Partitions\\2020-01-27_04.csv\n",
      "Saved: Hourly_Partitions\\2020-01-27_05.csv\n",
      "Saved: Hourly_Partitions\\2020-01-27_06.csv\n",
      "Saved: Hourly_Partitions\\2020-01-27_07.csv\n",
      "Saved: Hourly_Partitions\\2020-01-27_08.csv\n",
      "Saved: Hourly_Partitions\\2020-01-27_09.csv\n",
      "Saved: Hourly_Partitions\\2020-01-27_10.csv\n",
      "Saved: Hourly_Partitions\\2020-01-27_11.csv\n",
      "Saved: Hourly_Partitions\\2020-01-27_12.csv\n",
      "Saved: Hourly_Partitions\\2020-01-27_13.csv\n",
      "Saved: Hourly_Partitions\\2020-01-27_14.csv\n",
      "Saved: Hourly_Partitions\\2020-01-27_15.csv\n",
      "Saved: Hourly_Partitions\\2020-01-27_16.csv\n",
      "Saved: Hourly_Partitions\\2020-01-27_17.csv\n",
      "Saved: Hourly_Partitions\\2020-01-27_18.csv\n",
      "Saved: Hourly_Partitions\\2020-01-27_19.csv\n",
      "Saved: Hourly_Partitions\\2020-01-27_20.csv\n",
      "Saved: Hourly_Partitions\\2020-01-27_21.csv\n",
      "Saved: Hourly_Partitions\\2020-01-27_22.csv\n",
      "Saved: Hourly_Partitions\\2020-01-27_23.csv\n"
     ]
    }
   ],
   "source": [
    "import pandas as pd\n",
    "import os\n",
    "\n",
    "# Load the CSV file\n",
    "file_path = \"2020-01-27.csv\"  \n",
    "df = pd.read_csv(file_path)\n",
    "\n",
    "# Convert timestamp column to datetime format\n",
    "df['timestamp'] = pd.to_datetime(df['timestamp'])\n",
    "\n",
    "# Create an output directory for partitioned files\n",
    "output_folder = \"Hourly_Partitions\"\n",
    "os.makedirs(output_folder, exist_ok=True)\n",
    "\n",
    "# Group by hour and save each partition separately\n",
    "for hour in range(24):  \n",
    "    start_time = df['timestamp'].dt.floor('D') + pd.Timedelta(hours=hour)\n",
    "    end_time = start_time + pd.Timedelta(hours=1)\n",
    "    \n",
    "    # Filter data for the current hour\n",
    "    hourly_data = df[(df['timestamp'] >= start_time) & (df['timestamp'] < end_time)]\n",
    "    \n",
    "    if not hourly_data.empty:\n",
    "        output_file = os.path.join(output_folder, f\"2020-01-27_{hour:02d}.csv\")\n",
    "        hourly_data.to_csv(output_file, index=False)\n",
    "        print(f\"Saved: {output_file}\")\n"
   ]
  },
  {
   "cell_type": "code",
   "execution_count": 8,
   "metadata": {},
   "outputs": [
    {
     "name": "stdout",
     "output_type": "stream",
     "text": [
      " Saved: Hypergraph_JSONs\\2020-01-27_00.json\n",
      " Saved: Hypergraph_JSONs\\2020-01-27_01.json\n",
      " Saved: Hypergraph_JSONs\\2020-01-27_02.json\n",
      " Saved: Hypergraph_JSONs\\2020-01-27_03.json\n",
      " Saved: Hypergraph_JSONs\\2020-01-27_04.json\n",
      " Saved: Hypergraph_JSONs\\2020-01-27_05.json\n",
      " Saved: Hypergraph_JSONs\\2020-01-27_06.json\n",
      " Saved: Hypergraph_JSONs\\2020-01-27_07.json\n",
      " Saved: Hypergraph_JSONs\\2020-01-27_08.json\n",
      " Saved: Hypergraph_JSONs\\2020-01-27_09.json\n",
      " Saved: Hypergraph_JSONs\\2020-01-27_10.json\n",
      " Saved: Hypergraph_JSONs\\2020-01-27_11.json\n",
      " Saved: Hypergraph_JSONs\\2020-01-27_12.json\n",
      " Saved: Hypergraph_JSONs\\2020-01-27_13.json\n",
      " Saved: Hypergraph_JSONs\\2020-01-27_14.json\n",
      " Saved: Hypergraph_JSONs\\2020-01-27_15.json\n",
      " Saved: Hypergraph_JSONs\\2020-01-27_16.json\n",
      " Saved: Hypergraph_JSONs\\2020-01-27_17.json\n",
      " Saved: Hypergraph_JSONs\\2020-01-27_18.json\n",
      " Saved: Hypergraph_JSONs\\2020-01-27_19.json\n",
      " Saved: Hypergraph_JSONs\\2020-01-27_20.json\n",
      " Saved: Hypergraph_JSONs\\2020-01-27_21.json\n",
      " Saved: Hypergraph_JSONs\\2020-01-27_22.json\n",
      " Saved: Hypergraph_JSONs\\2020-01-27_23.json\n"
     ]
    }
   ],
   "source": [
    "import pandas as pd\n",
    "import os\n",
    "import json\n",
    "\n",
    "# Input and Output Folder Paths\n",
    "input_folder = \"Hourly_Partitions\"\n",
    "output_folder = \"Hypergraph_JSONs\"\n",
    "os.makedirs(output_folder, exist_ok=True)  # Create output folder if it doesn't exist\n",
    "\n",
    "# Process each CSV file in the hourly partitions folder\n",
    "for file_name in sorted(os.listdir(input_folder)):\n",
    "    if file_name.endswith(\".csv\"):\n",
    "        file_path = os.path.join(input_folder, file_name)\n",
    "        \n",
    "        # Read the CSV file\n",
    "        df = pd.read_csv(file_path)\n",
    "\n",
    "        # Create hypergraph dictionary\n",
    "        hypergraph_data = {}\n",
    "\n",
    "        for _, row in df.iterrows():\n",
    "            token = str(row['tokenAddressLabel'])\n",
    "            from_node = int(row['fromLabel'])\n",
    "            to_node = int(row['toLabel'])\n",
    "\n",
    "            if token in hypergraph_data:\n",
    "                hypergraph_data[token].update([from_node, to_node])  # Add nodes to existing hyperedge\n",
    "            else:\n",
    "                hypergraph_data[token] = {from_node, to_node}  # Create a new hyperedge\n",
    "\n",
    "        # Convert sets to lists for JSON compatibility\n",
    "        hypergraph_data = {k: list(v) for k, v in hypergraph_data.items()}\n",
    "\n",
    "        # Output file name\n",
    "        json_file_name = file_name.replace(\".csv\", \".json\")\n",
    "        output_path = os.path.join(output_folder, json_file_name)\n",
    "\n",
    "        # Save hypergraph to JSON file\n",
    "        with open(output_path, \"w\") as json_file:\n",
    "            json.dump(hypergraph_data, json_file, indent=4)\n",
    "\n",
    "        print(f\" Saved: {output_path}\")\n"
   ]
  },
  {
   "cell_type": "code",
   "execution_count": 9,
   "metadata": {},
   "outputs": [
    {
     "name": "stderr",
     "output_type": "stream",
     "text": [
      "c:\\Users\\anand\\anaconda3\\lib\\site-packages\\hypernetx\\classes\\entityset.py:150: DeprecationWarning: misc_props_col and misc_cell_props_col will be deprecated; all public references to these arguments will be removed in a future release.\n",
      "  warnings.warn(\n",
      "c:\\Users\\anand\\anaconda3\\lib\\site-packages\\hypernetx\\classes\\hypergraph.py:563: FutureWarning: This method or function will be deprecated in a future release. Public references to this method or function will be removed from the Hypergraph API in a future release.\n",
      "  self._nodes = self.E.restrict_to_levels([1])\n",
      "c:\\Users\\anand\\anaconda3\\lib\\site-packages\\hypernetx\\classes\\entityset.py:618: FutureWarning: The default of observed=False is deprecated and will be changed to True in a future version of pandas. Pass observed=False to retain current behavior or observed=True to adopt the future default and silence this warning.\n",
      "  elements = self._dataframe.groupby(col1)[col2].unique().to_dict()\n",
      "c:\\Users\\anand\\anaconda3\\lib\\site-packages\\hypernetx\\classes\\entityset.py:618: FutureWarning: The default of observed=False is deprecated and will be changed to True in a future version of pandas. Pass observed=False to retain current behavior or observed=True to adopt the future default and silence this warning.\n",
      "  elements = self._dataframe.groupby(col1)[col2].unique().to_dict()\n",
      "c:\\Users\\anand\\anaconda3\\lib\\site-packages\\hypernetx\\classes\\entityset.py:150: DeprecationWarning: misc_props_col and misc_cell_props_col will be deprecated; all public references to these arguments will be removed in a future release.\n",
      "  warnings.warn(\n",
      "c:\\Users\\anand\\anaconda3\\lib\\site-packages\\hypernetx\\classes\\entityset.py:1494: RuntimeWarning: The values in the array are unorderable. Pass `sort=False` to suppress this warning.\n",
      "  properties = props.combine_first(self.properties)\n",
      "c:\\Users\\anand\\anaconda3\\lib\\site-packages\\hypernetx\\classes\\hypergraph.py:563: FutureWarning: This method or function will be deprecated in a future release. Public references to this method or function will be removed from the Hypergraph API in a future release.\n",
      "  self._nodes = self.E.restrict_to_levels([1])\n",
      "c:\\Users\\anand\\anaconda3\\lib\\site-packages\\hypernetx\\classes\\entityset.py:618: FutureWarning: The default of observed=False is deprecated and will be changed to True in a future version of pandas. Pass observed=False to retain current behavior or observed=True to adopt the future default and silence this warning.\n",
      "  elements = self._dataframe.groupby(col1)[col2].unique().to_dict()\n",
      "c:\\Users\\anand\\anaconda3\\lib\\site-packages\\hypernetx\\classes\\entityset.py:618: FutureWarning: The default of observed=False is deprecated and will be changed to True in a future version of pandas. Pass observed=False to retain current behavior or observed=True to adopt the future default and silence this warning.\n",
      "  elements = self._dataframe.groupby(col1)[col2].unique().to_dict()\n"
     ]
    },
    {
     "name": "stdout",
     "output_type": "stream",
     "text": [
      " Saved Hypergraph Image: Hypergraph_Images\\2020-01-27_00.png\n"
     ]
    },
    {
     "name": "stderr",
     "output_type": "stream",
     "text": [
      "c:\\Users\\anand\\anaconda3\\lib\\site-packages\\hypernetx\\classes\\entityset.py:150: DeprecationWarning: misc_props_col and misc_cell_props_col will be deprecated; all public references to these arguments will be removed in a future release.\n",
      "  warnings.warn(\n",
      "c:\\Users\\anand\\anaconda3\\lib\\site-packages\\hypernetx\\classes\\hypergraph.py:563: FutureWarning: This method or function will be deprecated in a future release. Public references to this method or function will be removed from the Hypergraph API in a future release.\n",
      "  self._nodes = self.E.restrict_to_levels([1])\n",
      "c:\\Users\\anand\\anaconda3\\lib\\site-packages\\hypernetx\\classes\\entityset.py:618: FutureWarning: The default of observed=False is deprecated and will be changed to True in a future version of pandas. Pass observed=False to retain current behavior or observed=True to adopt the future default and silence this warning.\n",
      "  elements = self._dataframe.groupby(col1)[col2].unique().to_dict()\n",
      "c:\\Users\\anand\\anaconda3\\lib\\site-packages\\hypernetx\\classes\\entityset.py:618: FutureWarning: The default of observed=False is deprecated and will be changed to True in a future version of pandas. Pass observed=False to retain current behavior or observed=True to adopt the future default and silence this warning.\n",
      "  elements = self._dataframe.groupby(col1)[col2].unique().to_dict()\n",
      "c:\\Users\\anand\\anaconda3\\lib\\site-packages\\hypernetx\\classes\\entityset.py:150: DeprecationWarning: misc_props_col and misc_cell_props_col will be deprecated; all public references to these arguments will be removed in a future release.\n",
      "  warnings.warn(\n",
      "c:\\Users\\anand\\anaconda3\\lib\\site-packages\\hypernetx\\classes\\entityset.py:1494: RuntimeWarning: The values in the array are unorderable. Pass `sort=False` to suppress this warning.\n",
      "  properties = props.combine_first(self.properties)\n",
      "c:\\Users\\anand\\anaconda3\\lib\\site-packages\\hypernetx\\classes\\hypergraph.py:563: FutureWarning: This method or function will be deprecated in a future release. Public references to this method or function will be removed from the Hypergraph API in a future release.\n",
      "  self._nodes = self.E.restrict_to_levels([1])\n",
      "c:\\Users\\anand\\anaconda3\\lib\\site-packages\\hypernetx\\classes\\entityset.py:618: FutureWarning: The default of observed=False is deprecated and will be changed to True in a future version of pandas. Pass observed=False to retain current behavior or observed=True to adopt the future default and silence this warning.\n",
      "  elements = self._dataframe.groupby(col1)[col2].unique().to_dict()\n",
      "c:\\Users\\anand\\anaconda3\\lib\\site-packages\\hypernetx\\classes\\entityset.py:618: FutureWarning: The default of observed=False is deprecated and will be changed to True in a future version of pandas. Pass observed=False to retain current behavior or observed=True to adopt the future default and silence this warning.\n",
      "  elements = self._dataframe.groupby(col1)[col2].unique().to_dict()\n"
     ]
    },
    {
     "name": "stdout",
     "output_type": "stream",
     "text": [
      " Saved Hypergraph Image: Hypergraph_Images\\2020-01-27_01.png\n"
     ]
    },
    {
     "name": "stderr",
     "output_type": "stream",
     "text": [
      "c:\\Users\\anand\\anaconda3\\lib\\site-packages\\hypernetx\\classes\\entityset.py:150: DeprecationWarning: misc_props_col and misc_cell_props_col will be deprecated; all public references to these arguments will be removed in a future release.\n",
      "  warnings.warn(\n",
      "c:\\Users\\anand\\anaconda3\\lib\\site-packages\\hypernetx\\classes\\hypergraph.py:563: FutureWarning: This method or function will be deprecated in a future release. Public references to this method or function will be removed from the Hypergraph API in a future release.\n",
      "  self._nodes = self.E.restrict_to_levels([1])\n",
      "c:\\Users\\anand\\anaconda3\\lib\\site-packages\\hypernetx\\classes\\entityset.py:618: FutureWarning: The default of observed=False is deprecated and will be changed to True in a future version of pandas. Pass observed=False to retain current behavior or observed=True to adopt the future default and silence this warning.\n",
      "  elements = self._dataframe.groupby(col1)[col2].unique().to_dict()\n",
      "c:\\Users\\anand\\anaconda3\\lib\\site-packages\\hypernetx\\classes\\entityset.py:618: FutureWarning: The default of observed=False is deprecated and will be changed to True in a future version of pandas. Pass observed=False to retain current behavior or observed=True to adopt the future default and silence this warning.\n",
      "  elements = self._dataframe.groupby(col1)[col2].unique().to_dict()\n",
      "c:\\Users\\anand\\anaconda3\\lib\\site-packages\\hypernetx\\classes\\entityset.py:150: DeprecationWarning: misc_props_col and misc_cell_props_col will be deprecated; all public references to these arguments will be removed in a future release.\n",
      "  warnings.warn(\n",
      "c:\\Users\\anand\\anaconda3\\lib\\site-packages\\hypernetx\\classes\\entityset.py:1494: RuntimeWarning: The values in the array are unorderable. Pass `sort=False` to suppress this warning.\n",
      "  properties = props.combine_first(self.properties)\n",
      "c:\\Users\\anand\\anaconda3\\lib\\site-packages\\hypernetx\\classes\\hypergraph.py:563: FutureWarning: This method or function will be deprecated in a future release. Public references to this method or function will be removed from the Hypergraph API in a future release.\n",
      "  self._nodes = self.E.restrict_to_levels([1])\n",
      "c:\\Users\\anand\\anaconda3\\lib\\site-packages\\hypernetx\\classes\\entityset.py:618: FutureWarning: The default of observed=False is deprecated and will be changed to True in a future version of pandas. Pass observed=False to retain current behavior or observed=True to adopt the future default and silence this warning.\n",
      "  elements = self._dataframe.groupby(col1)[col2].unique().to_dict()\n",
      "c:\\Users\\anand\\anaconda3\\lib\\site-packages\\hypernetx\\classes\\entityset.py:618: FutureWarning: The default of observed=False is deprecated and will be changed to True in a future version of pandas. Pass observed=False to retain current behavior or observed=True to adopt the future default and silence this warning.\n",
      "  elements = self._dataframe.groupby(col1)[col2].unique().to_dict()\n"
     ]
    },
    {
     "name": "stdout",
     "output_type": "stream",
     "text": [
      " Saved Hypergraph Image: Hypergraph_Images\\2020-01-27_02.png\n"
     ]
    },
    {
     "name": "stderr",
     "output_type": "stream",
     "text": [
      "c:\\Users\\anand\\anaconda3\\lib\\site-packages\\hypernetx\\classes\\entityset.py:150: DeprecationWarning: misc_props_col and misc_cell_props_col will be deprecated; all public references to these arguments will be removed in a future release.\n",
      "  warnings.warn(\n",
      "c:\\Users\\anand\\anaconda3\\lib\\site-packages\\hypernetx\\classes\\hypergraph.py:563: FutureWarning: This method or function will be deprecated in a future release. Public references to this method or function will be removed from the Hypergraph API in a future release.\n",
      "  self._nodes = self.E.restrict_to_levels([1])\n",
      "c:\\Users\\anand\\anaconda3\\lib\\site-packages\\hypernetx\\classes\\entityset.py:618: FutureWarning: The default of observed=False is deprecated and will be changed to True in a future version of pandas. Pass observed=False to retain current behavior or observed=True to adopt the future default and silence this warning.\n",
      "  elements = self._dataframe.groupby(col1)[col2].unique().to_dict()\n",
      "c:\\Users\\anand\\anaconda3\\lib\\site-packages\\hypernetx\\classes\\entityset.py:618: FutureWarning: The default of observed=False is deprecated and will be changed to True in a future version of pandas. Pass observed=False to retain current behavior or observed=True to adopt the future default and silence this warning.\n",
      "  elements = self._dataframe.groupby(col1)[col2].unique().to_dict()\n",
      "c:\\Users\\anand\\anaconda3\\lib\\site-packages\\hypernetx\\classes\\entityset.py:150: DeprecationWarning: misc_props_col and misc_cell_props_col will be deprecated; all public references to these arguments will be removed in a future release.\n",
      "  warnings.warn(\n",
      "c:\\Users\\anand\\anaconda3\\lib\\site-packages\\hypernetx\\classes\\entityset.py:1494: RuntimeWarning: The values in the array are unorderable. Pass `sort=False` to suppress this warning.\n",
      "  properties = props.combine_first(self.properties)\n",
      "c:\\Users\\anand\\anaconda3\\lib\\site-packages\\hypernetx\\classes\\hypergraph.py:563: FutureWarning: This method or function will be deprecated in a future release. Public references to this method or function will be removed from the Hypergraph API in a future release.\n",
      "  self._nodes = self.E.restrict_to_levels([1])\n",
      "c:\\Users\\anand\\anaconda3\\lib\\site-packages\\hypernetx\\classes\\entityset.py:618: FutureWarning: The default of observed=False is deprecated and will be changed to True in a future version of pandas. Pass observed=False to retain current behavior or observed=True to adopt the future default and silence this warning.\n",
      "  elements = self._dataframe.groupby(col1)[col2].unique().to_dict()\n",
      "c:\\Users\\anand\\anaconda3\\lib\\site-packages\\hypernetx\\classes\\entityset.py:618: FutureWarning: The default of observed=False is deprecated and will be changed to True in a future version of pandas. Pass observed=False to retain current behavior or observed=True to adopt the future default and silence this warning.\n",
      "  elements = self._dataframe.groupby(col1)[col2].unique().to_dict()\n"
     ]
    },
    {
     "name": "stdout",
     "output_type": "stream",
     "text": [
      " Saved Hypergraph Image: Hypergraph_Images\\2020-01-27_03.png\n"
     ]
    },
    {
     "name": "stderr",
     "output_type": "stream",
     "text": [
      "c:\\Users\\anand\\anaconda3\\lib\\site-packages\\hypernetx\\classes\\entityset.py:150: DeprecationWarning: misc_props_col and misc_cell_props_col will be deprecated; all public references to these arguments will be removed in a future release.\n",
      "  warnings.warn(\n",
      "c:\\Users\\anand\\anaconda3\\lib\\site-packages\\hypernetx\\classes\\hypergraph.py:563: FutureWarning: This method or function will be deprecated in a future release. Public references to this method or function will be removed from the Hypergraph API in a future release.\n",
      "  self._nodes = self.E.restrict_to_levels([1])\n",
      "c:\\Users\\anand\\anaconda3\\lib\\site-packages\\hypernetx\\classes\\entityset.py:618: FutureWarning: The default of observed=False is deprecated and will be changed to True in a future version of pandas. Pass observed=False to retain current behavior or observed=True to adopt the future default and silence this warning.\n",
      "  elements = self._dataframe.groupby(col1)[col2].unique().to_dict()\n",
      "c:\\Users\\anand\\anaconda3\\lib\\site-packages\\hypernetx\\classes\\entityset.py:618: FutureWarning: The default of observed=False is deprecated and will be changed to True in a future version of pandas. Pass observed=False to retain current behavior or observed=True to adopt the future default and silence this warning.\n",
      "  elements = self._dataframe.groupby(col1)[col2].unique().to_dict()\n",
      "c:\\Users\\anand\\anaconda3\\lib\\site-packages\\hypernetx\\classes\\entityset.py:150: DeprecationWarning: misc_props_col and misc_cell_props_col will be deprecated; all public references to these arguments will be removed in a future release.\n",
      "  warnings.warn(\n",
      "c:\\Users\\anand\\anaconda3\\lib\\site-packages\\hypernetx\\classes\\entityset.py:1494: RuntimeWarning: The values in the array are unorderable. Pass `sort=False` to suppress this warning.\n",
      "  properties = props.combine_first(self.properties)\n",
      "c:\\Users\\anand\\anaconda3\\lib\\site-packages\\hypernetx\\classes\\hypergraph.py:563: FutureWarning: This method or function will be deprecated in a future release. Public references to this method or function will be removed from the Hypergraph API in a future release.\n",
      "  self._nodes = self.E.restrict_to_levels([1])\n",
      "c:\\Users\\anand\\anaconda3\\lib\\site-packages\\hypernetx\\classes\\entityset.py:618: FutureWarning: The default of observed=False is deprecated and will be changed to True in a future version of pandas. Pass observed=False to retain current behavior or observed=True to adopt the future default and silence this warning.\n",
      "  elements = self._dataframe.groupby(col1)[col2].unique().to_dict()\n",
      "c:\\Users\\anand\\anaconda3\\lib\\site-packages\\hypernetx\\classes\\entityset.py:618: FutureWarning: The default of observed=False is deprecated and will be changed to True in a future version of pandas. Pass observed=False to retain current behavior or observed=True to adopt the future default and silence this warning.\n",
      "  elements = self._dataframe.groupby(col1)[col2].unique().to_dict()\n"
     ]
    },
    {
     "name": "stdout",
     "output_type": "stream",
     "text": [
      " Saved Hypergraph Image: Hypergraph_Images\\2020-01-27_04.png\n"
     ]
    },
    {
     "name": "stderr",
     "output_type": "stream",
     "text": [
      "c:\\Users\\anand\\anaconda3\\lib\\site-packages\\hypernetx\\classes\\entityset.py:150: DeprecationWarning: misc_props_col and misc_cell_props_col will be deprecated; all public references to these arguments will be removed in a future release.\n",
      "  warnings.warn(\n",
      "c:\\Users\\anand\\anaconda3\\lib\\site-packages\\hypernetx\\classes\\hypergraph.py:563: FutureWarning: This method or function will be deprecated in a future release. Public references to this method or function will be removed from the Hypergraph API in a future release.\n",
      "  self._nodes = self.E.restrict_to_levels([1])\n",
      "c:\\Users\\anand\\anaconda3\\lib\\site-packages\\hypernetx\\classes\\entityset.py:618: FutureWarning: The default of observed=False is deprecated and will be changed to True in a future version of pandas. Pass observed=False to retain current behavior or observed=True to adopt the future default and silence this warning.\n",
      "  elements = self._dataframe.groupby(col1)[col2].unique().to_dict()\n",
      "c:\\Users\\anand\\anaconda3\\lib\\site-packages\\hypernetx\\classes\\entityset.py:618: FutureWarning: The default of observed=False is deprecated and will be changed to True in a future version of pandas. Pass observed=False to retain current behavior or observed=True to adopt the future default and silence this warning.\n",
      "  elements = self._dataframe.groupby(col1)[col2].unique().to_dict()\n",
      "c:\\Users\\anand\\anaconda3\\lib\\site-packages\\hypernetx\\classes\\entityset.py:150: DeprecationWarning: misc_props_col and misc_cell_props_col will be deprecated; all public references to these arguments will be removed in a future release.\n",
      "  warnings.warn(\n",
      "c:\\Users\\anand\\anaconda3\\lib\\site-packages\\hypernetx\\classes\\entityset.py:1494: RuntimeWarning: The values in the array are unorderable. Pass `sort=False` to suppress this warning.\n",
      "  properties = props.combine_first(self.properties)\n",
      "c:\\Users\\anand\\anaconda3\\lib\\site-packages\\hypernetx\\classes\\hypergraph.py:563: FutureWarning: This method or function will be deprecated in a future release. Public references to this method or function will be removed from the Hypergraph API in a future release.\n",
      "  self._nodes = self.E.restrict_to_levels([1])\n",
      "c:\\Users\\anand\\anaconda3\\lib\\site-packages\\hypernetx\\classes\\entityset.py:618: FutureWarning: The default of observed=False is deprecated and will be changed to True in a future version of pandas. Pass observed=False to retain current behavior or observed=True to adopt the future default and silence this warning.\n",
      "  elements = self._dataframe.groupby(col1)[col2].unique().to_dict()\n",
      "c:\\Users\\anand\\anaconda3\\lib\\site-packages\\hypernetx\\classes\\entityset.py:618: FutureWarning: The default of observed=False is deprecated and will be changed to True in a future version of pandas. Pass observed=False to retain current behavior or observed=True to adopt the future default and silence this warning.\n",
      "  elements = self._dataframe.groupby(col1)[col2].unique().to_dict()\n"
     ]
    },
    {
     "name": "stdout",
     "output_type": "stream",
     "text": [
      " Saved Hypergraph Image: Hypergraph_Images\\2020-01-27_05.png\n"
     ]
    },
    {
     "name": "stderr",
     "output_type": "stream",
     "text": [
      "c:\\Users\\anand\\anaconda3\\lib\\site-packages\\hypernetx\\classes\\entityset.py:150: DeprecationWarning: misc_props_col and misc_cell_props_col will be deprecated; all public references to these arguments will be removed in a future release.\n",
      "  warnings.warn(\n",
      "c:\\Users\\anand\\anaconda3\\lib\\site-packages\\hypernetx\\classes\\hypergraph.py:563: FutureWarning: This method or function will be deprecated in a future release. Public references to this method or function will be removed from the Hypergraph API in a future release.\n",
      "  self._nodes = self.E.restrict_to_levels([1])\n",
      "c:\\Users\\anand\\anaconda3\\lib\\site-packages\\hypernetx\\classes\\entityset.py:618: FutureWarning: The default of observed=False is deprecated and will be changed to True in a future version of pandas. Pass observed=False to retain current behavior or observed=True to adopt the future default and silence this warning.\n",
      "  elements = self._dataframe.groupby(col1)[col2].unique().to_dict()\n",
      "c:\\Users\\anand\\anaconda3\\lib\\site-packages\\hypernetx\\classes\\entityset.py:618: FutureWarning: The default of observed=False is deprecated and will be changed to True in a future version of pandas. Pass observed=False to retain current behavior or observed=True to adopt the future default and silence this warning.\n",
      "  elements = self._dataframe.groupby(col1)[col2].unique().to_dict()\n",
      "c:\\Users\\anand\\anaconda3\\lib\\site-packages\\hypernetx\\classes\\entityset.py:150: DeprecationWarning: misc_props_col and misc_cell_props_col will be deprecated; all public references to these arguments will be removed in a future release.\n",
      "  warnings.warn(\n",
      "c:\\Users\\anand\\anaconda3\\lib\\site-packages\\hypernetx\\classes\\entityset.py:1494: RuntimeWarning: The values in the array are unorderable. Pass `sort=False` to suppress this warning.\n",
      "  properties = props.combine_first(self.properties)\n",
      "c:\\Users\\anand\\anaconda3\\lib\\site-packages\\hypernetx\\classes\\hypergraph.py:563: FutureWarning: This method or function will be deprecated in a future release. Public references to this method or function will be removed from the Hypergraph API in a future release.\n",
      "  self._nodes = self.E.restrict_to_levels([1])\n",
      "c:\\Users\\anand\\anaconda3\\lib\\site-packages\\hypernetx\\classes\\entityset.py:618: FutureWarning: The default of observed=False is deprecated and will be changed to True in a future version of pandas. Pass observed=False to retain current behavior or observed=True to adopt the future default and silence this warning.\n",
      "  elements = self._dataframe.groupby(col1)[col2].unique().to_dict()\n",
      "c:\\Users\\anand\\anaconda3\\lib\\site-packages\\hypernetx\\classes\\entityset.py:618: FutureWarning: The default of observed=False is deprecated and will be changed to True in a future version of pandas. Pass observed=False to retain current behavior or observed=True to adopt the future default and silence this warning.\n",
      "  elements = self._dataframe.groupby(col1)[col2].unique().to_dict()\n"
     ]
    },
    {
     "name": "stdout",
     "output_type": "stream",
     "text": [
      " Saved Hypergraph Image: Hypergraph_Images\\2020-01-27_06.png\n"
     ]
    },
    {
     "name": "stderr",
     "output_type": "stream",
     "text": [
      "c:\\Users\\anand\\anaconda3\\lib\\site-packages\\hypernetx\\classes\\entityset.py:150: DeprecationWarning: misc_props_col and misc_cell_props_col will be deprecated; all public references to these arguments will be removed in a future release.\n",
      "  warnings.warn(\n",
      "c:\\Users\\anand\\anaconda3\\lib\\site-packages\\hypernetx\\classes\\hypergraph.py:563: FutureWarning: This method or function will be deprecated in a future release. Public references to this method or function will be removed from the Hypergraph API in a future release.\n",
      "  self._nodes = self.E.restrict_to_levels([1])\n",
      "c:\\Users\\anand\\anaconda3\\lib\\site-packages\\hypernetx\\classes\\entityset.py:618: FutureWarning: The default of observed=False is deprecated and will be changed to True in a future version of pandas. Pass observed=False to retain current behavior or observed=True to adopt the future default and silence this warning.\n",
      "  elements = self._dataframe.groupby(col1)[col2].unique().to_dict()\n",
      "c:\\Users\\anand\\anaconda3\\lib\\site-packages\\hypernetx\\classes\\entityset.py:618: FutureWarning: The default of observed=False is deprecated and will be changed to True in a future version of pandas. Pass observed=False to retain current behavior or observed=True to adopt the future default and silence this warning.\n",
      "  elements = self._dataframe.groupby(col1)[col2].unique().to_dict()\n",
      "c:\\Users\\anand\\anaconda3\\lib\\site-packages\\hypernetx\\classes\\entityset.py:150: DeprecationWarning: misc_props_col and misc_cell_props_col will be deprecated; all public references to these arguments will be removed in a future release.\n",
      "  warnings.warn(\n",
      "c:\\Users\\anand\\anaconda3\\lib\\site-packages\\hypernetx\\classes\\entityset.py:1494: RuntimeWarning: The values in the array are unorderable. Pass `sort=False` to suppress this warning.\n",
      "  properties = props.combine_first(self.properties)\n",
      "c:\\Users\\anand\\anaconda3\\lib\\site-packages\\hypernetx\\classes\\hypergraph.py:563: FutureWarning: This method or function will be deprecated in a future release. Public references to this method or function will be removed from the Hypergraph API in a future release.\n",
      "  self._nodes = self.E.restrict_to_levels([1])\n",
      "c:\\Users\\anand\\anaconda3\\lib\\site-packages\\hypernetx\\classes\\entityset.py:618: FutureWarning: The default of observed=False is deprecated and will be changed to True in a future version of pandas. Pass observed=False to retain current behavior or observed=True to adopt the future default and silence this warning.\n",
      "  elements = self._dataframe.groupby(col1)[col2].unique().to_dict()\n",
      "c:\\Users\\anand\\anaconda3\\lib\\site-packages\\hypernetx\\classes\\entityset.py:618: FutureWarning: The default of observed=False is deprecated and will be changed to True in a future version of pandas. Pass observed=False to retain current behavior or observed=True to adopt the future default and silence this warning.\n",
      "  elements = self._dataframe.groupby(col1)[col2].unique().to_dict()\n"
     ]
    },
    {
     "name": "stdout",
     "output_type": "stream",
     "text": [
      " Saved Hypergraph Image: Hypergraph_Images\\2020-01-27_07.png\n"
     ]
    },
    {
     "name": "stderr",
     "output_type": "stream",
     "text": [
      "c:\\Users\\anand\\anaconda3\\lib\\site-packages\\hypernetx\\classes\\entityset.py:150: DeprecationWarning: misc_props_col and misc_cell_props_col will be deprecated; all public references to these arguments will be removed in a future release.\n",
      "  warnings.warn(\n",
      "c:\\Users\\anand\\anaconda3\\lib\\site-packages\\hypernetx\\classes\\hypergraph.py:563: FutureWarning: This method or function will be deprecated in a future release. Public references to this method or function will be removed from the Hypergraph API in a future release.\n",
      "  self._nodes = self.E.restrict_to_levels([1])\n",
      "c:\\Users\\anand\\anaconda3\\lib\\site-packages\\hypernetx\\classes\\entityset.py:618: FutureWarning: The default of observed=False is deprecated and will be changed to True in a future version of pandas. Pass observed=False to retain current behavior or observed=True to adopt the future default and silence this warning.\n",
      "  elements = self._dataframe.groupby(col1)[col2].unique().to_dict()\n",
      "c:\\Users\\anand\\anaconda3\\lib\\site-packages\\hypernetx\\classes\\entityset.py:618: FutureWarning: The default of observed=False is deprecated and will be changed to True in a future version of pandas. Pass observed=False to retain current behavior or observed=True to adopt the future default and silence this warning.\n",
      "  elements = self._dataframe.groupby(col1)[col2].unique().to_dict()\n",
      "c:\\Users\\anand\\anaconda3\\lib\\site-packages\\hypernetx\\classes\\entityset.py:150: DeprecationWarning: misc_props_col and misc_cell_props_col will be deprecated; all public references to these arguments will be removed in a future release.\n",
      "  warnings.warn(\n",
      "c:\\Users\\anand\\anaconda3\\lib\\site-packages\\hypernetx\\classes\\entityset.py:1494: RuntimeWarning: The values in the array are unorderable. Pass `sort=False` to suppress this warning.\n",
      "  properties = props.combine_first(self.properties)\n",
      "c:\\Users\\anand\\anaconda3\\lib\\site-packages\\hypernetx\\classes\\hypergraph.py:563: FutureWarning: This method or function will be deprecated in a future release. Public references to this method or function will be removed from the Hypergraph API in a future release.\n",
      "  self._nodes = self.E.restrict_to_levels([1])\n",
      "c:\\Users\\anand\\anaconda3\\lib\\site-packages\\hypernetx\\classes\\entityset.py:618: FutureWarning: The default of observed=False is deprecated and will be changed to True in a future version of pandas. Pass observed=False to retain current behavior or observed=True to adopt the future default and silence this warning.\n",
      "  elements = self._dataframe.groupby(col1)[col2].unique().to_dict()\n",
      "c:\\Users\\anand\\anaconda3\\lib\\site-packages\\hypernetx\\classes\\entityset.py:618: FutureWarning: The default of observed=False is deprecated and will be changed to True in a future version of pandas. Pass observed=False to retain current behavior or observed=True to adopt the future default and silence this warning.\n",
      "  elements = self._dataframe.groupby(col1)[col2].unique().to_dict()\n"
     ]
    },
    {
     "name": "stdout",
     "output_type": "stream",
     "text": [
      " Saved Hypergraph Image: Hypergraph_Images\\2020-01-27_08.png\n"
     ]
    },
    {
     "name": "stderr",
     "output_type": "stream",
     "text": [
      "c:\\Users\\anand\\anaconda3\\lib\\site-packages\\hypernetx\\classes\\entityset.py:150: DeprecationWarning: misc_props_col and misc_cell_props_col will be deprecated; all public references to these arguments will be removed in a future release.\n",
      "  warnings.warn(\n",
      "c:\\Users\\anand\\anaconda3\\lib\\site-packages\\hypernetx\\classes\\hypergraph.py:563: FutureWarning: This method or function will be deprecated in a future release. Public references to this method or function will be removed from the Hypergraph API in a future release.\n",
      "  self._nodes = self.E.restrict_to_levels([1])\n",
      "c:\\Users\\anand\\anaconda3\\lib\\site-packages\\hypernetx\\classes\\entityset.py:618: FutureWarning: The default of observed=False is deprecated and will be changed to True in a future version of pandas. Pass observed=False to retain current behavior or observed=True to adopt the future default and silence this warning.\n",
      "  elements = self._dataframe.groupby(col1)[col2].unique().to_dict()\n",
      "c:\\Users\\anand\\anaconda3\\lib\\site-packages\\hypernetx\\classes\\entityset.py:618: FutureWarning: The default of observed=False is deprecated and will be changed to True in a future version of pandas. Pass observed=False to retain current behavior or observed=True to adopt the future default and silence this warning.\n",
      "  elements = self._dataframe.groupby(col1)[col2].unique().to_dict()\n",
      "c:\\Users\\anand\\anaconda3\\lib\\site-packages\\hypernetx\\classes\\entityset.py:150: DeprecationWarning: misc_props_col and misc_cell_props_col will be deprecated; all public references to these arguments will be removed in a future release.\n",
      "  warnings.warn(\n",
      "c:\\Users\\anand\\anaconda3\\lib\\site-packages\\hypernetx\\classes\\entityset.py:1494: RuntimeWarning: The values in the array are unorderable. Pass `sort=False` to suppress this warning.\n",
      "  properties = props.combine_first(self.properties)\n",
      "c:\\Users\\anand\\anaconda3\\lib\\site-packages\\hypernetx\\classes\\hypergraph.py:563: FutureWarning: This method or function will be deprecated in a future release. Public references to this method or function will be removed from the Hypergraph API in a future release.\n",
      "  self._nodes = self.E.restrict_to_levels([1])\n",
      "c:\\Users\\anand\\anaconda3\\lib\\site-packages\\hypernetx\\classes\\entityset.py:618: FutureWarning: The default of observed=False is deprecated and will be changed to True in a future version of pandas. Pass observed=False to retain current behavior or observed=True to adopt the future default and silence this warning.\n",
      "  elements = self._dataframe.groupby(col1)[col2].unique().to_dict()\n",
      "c:\\Users\\anand\\anaconda3\\lib\\site-packages\\hypernetx\\classes\\entityset.py:618: FutureWarning: The default of observed=False is deprecated and will be changed to True in a future version of pandas. Pass observed=False to retain current behavior or observed=True to adopt the future default and silence this warning.\n",
      "  elements = self._dataframe.groupby(col1)[col2].unique().to_dict()\n"
     ]
    },
    {
     "name": "stdout",
     "output_type": "stream",
     "text": [
      " Saved Hypergraph Image: Hypergraph_Images\\2020-01-27_09.png\n"
     ]
    },
    {
     "name": "stderr",
     "output_type": "stream",
     "text": [
      "c:\\Users\\anand\\anaconda3\\lib\\site-packages\\hypernetx\\classes\\entityset.py:150: DeprecationWarning: misc_props_col and misc_cell_props_col will be deprecated; all public references to these arguments will be removed in a future release.\n",
      "  warnings.warn(\n",
      "c:\\Users\\anand\\anaconda3\\lib\\site-packages\\hypernetx\\classes\\hypergraph.py:563: FutureWarning: This method or function will be deprecated in a future release. Public references to this method or function will be removed from the Hypergraph API in a future release.\n",
      "  self._nodes = self.E.restrict_to_levels([1])\n",
      "c:\\Users\\anand\\anaconda3\\lib\\site-packages\\hypernetx\\classes\\entityset.py:618: FutureWarning: The default of observed=False is deprecated and will be changed to True in a future version of pandas. Pass observed=False to retain current behavior or observed=True to adopt the future default and silence this warning.\n",
      "  elements = self._dataframe.groupby(col1)[col2].unique().to_dict()\n",
      "c:\\Users\\anand\\anaconda3\\lib\\site-packages\\hypernetx\\classes\\entityset.py:618: FutureWarning: The default of observed=False is deprecated and will be changed to True in a future version of pandas. Pass observed=False to retain current behavior or observed=True to adopt the future default and silence this warning.\n",
      "  elements = self._dataframe.groupby(col1)[col2].unique().to_dict()\n",
      "c:\\Users\\anand\\anaconda3\\lib\\site-packages\\hypernetx\\classes\\entityset.py:150: DeprecationWarning: misc_props_col and misc_cell_props_col will be deprecated; all public references to these arguments will be removed in a future release.\n",
      "  warnings.warn(\n",
      "c:\\Users\\anand\\anaconda3\\lib\\site-packages\\hypernetx\\classes\\entityset.py:1494: RuntimeWarning: The values in the array are unorderable. Pass `sort=False` to suppress this warning.\n",
      "  properties = props.combine_first(self.properties)\n",
      "c:\\Users\\anand\\anaconda3\\lib\\site-packages\\hypernetx\\classes\\hypergraph.py:563: FutureWarning: This method or function will be deprecated in a future release. Public references to this method or function will be removed from the Hypergraph API in a future release.\n",
      "  self._nodes = self.E.restrict_to_levels([1])\n",
      "c:\\Users\\anand\\anaconda3\\lib\\site-packages\\hypernetx\\classes\\entityset.py:618: FutureWarning: The default of observed=False is deprecated and will be changed to True in a future version of pandas. Pass observed=False to retain current behavior or observed=True to adopt the future default and silence this warning.\n",
      "  elements = self._dataframe.groupby(col1)[col2].unique().to_dict()\n",
      "c:\\Users\\anand\\anaconda3\\lib\\site-packages\\hypernetx\\classes\\entityset.py:618: FutureWarning: The default of observed=False is deprecated and will be changed to True in a future version of pandas. Pass observed=False to retain current behavior or observed=True to adopt the future default and silence this warning.\n",
      "  elements = self._dataframe.groupby(col1)[col2].unique().to_dict()\n"
     ]
    },
    {
     "name": "stdout",
     "output_type": "stream",
     "text": [
      " Saved Hypergraph Image: Hypergraph_Images\\2020-01-27_10.png\n"
     ]
    },
    {
     "name": "stderr",
     "output_type": "stream",
     "text": [
      "c:\\Users\\anand\\anaconda3\\lib\\site-packages\\hypernetx\\classes\\entityset.py:150: DeprecationWarning: misc_props_col and misc_cell_props_col will be deprecated; all public references to these arguments will be removed in a future release.\n",
      "  warnings.warn(\n",
      "c:\\Users\\anand\\anaconda3\\lib\\site-packages\\hypernetx\\classes\\hypergraph.py:563: FutureWarning: This method or function will be deprecated in a future release. Public references to this method or function will be removed from the Hypergraph API in a future release.\n",
      "  self._nodes = self.E.restrict_to_levels([1])\n",
      "c:\\Users\\anand\\anaconda3\\lib\\site-packages\\hypernetx\\classes\\entityset.py:618: FutureWarning: The default of observed=False is deprecated and will be changed to True in a future version of pandas. Pass observed=False to retain current behavior or observed=True to adopt the future default and silence this warning.\n",
      "  elements = self._dataframe.groupby(col1)[col2].unique().to_dict()\n",
      "c:\\Users\\anand\\anaconda3\\lib\\site-packages\\hypernetx\\classes\\entityset.py:618: FutureWarning: The default of observed=False is deprecated and will be changed to True in a future version of pandas. Pass observed=False to retain current behavior or observed=True to adopt the future default and silence this warning.\n",
      "  elements = self._dataframe.groupby(col1)[col2].unique().to_dict()\n",
      "c:\\Users\\anand\\anaconda3\\lib\\site-packages\\hypernetx\\classes\\entityset.py:150: DeprecationWarning: misc_props_col and misc_cell_props_col will be deprecated; all public references to these arguments will be removed in a future release.\n",
      "  warnings.warn(\n",
      "c:\\Users\\anand\\anaconda3\\lib\\site-packages\\hypernetx\\classes\\entityset.py:1494: RuntimeWarning: The values in the array are unorderable. Pass `sort=False` to suppress this warning.\n",
      "  properties = props.combine_first(self.properties)\n",
      "c:\\Users\\anand\\anaconda3\\lib\\site-packages\\hypernetx\\classes\\hypergraph.py:563: FutureWarning: This method or function will be deprecated in a future release. Public references to this method or function will be removed from the Hypergraph API in a future release.\n",
      "  self._nodes = self.E.restrict_to_levels([1])\n",
      "c:\\Users\\anand\\anaconda3\\lib\\site-packages\\hypernetx\\classes\\entityset.py:618: FutureWarning: The default of observed=False is deprecated and will be changed to True in a future version of pandas. Pass observed=False to retain current behavior or observed=True to adopt the future default and silence this warning.\n",
      "  elements = self._dataframe.groupby(col1)[col2].unique().to_dict()\n",
      "c:\\Users\\anand\\anaconda3\\lib\\site-packages\\hypernetx\\classes\\entityset.py:618: FutureWarning: The default of observed=False is deprecated and will be changed to True in a future version of pandas. Pass observed=False to retain current behavior or observed=True to adopt the future default and silence this warning.\n",
      "  elements = self._dataframe.groupby(col1)[col2].unique().to_dict()\n"
     ]
    },
    {
     "name": "stdout",
     "output_type": "stream",
     "text": [
      " Saved Hypergraph Image: Hypergraph_Images\\2020-01-27_11.png\n"
     ]
    },
    {
     "name": "stderr",
     "output_type": "stream",
     "text": [
      "c:\\Users\\anand\\anaconda3\\lib\\site-packages\\hypernetx\\classes\\entityset.py:150: DeprecationWarning: misc_props_col and misc_cell_props_col will be deprecated; all public references to these arguments will be removed in a future release.\n",
      "  warnings.warn(\n",
      "c:\\Users\\anand\\anaconda3\\lib\\site-packages\\hypernetx\\classes\\hypergraph.py:563: FutureWarning: This method or function will be deprecated in a future release. Public references to this method or function will be removed from the Hypergraph API in a future release.\n",
      "  self._nodes = self.E.restrict_to_levels([1])\n",
      "c:\\Users\\anand\\anaconda3\\lib\\site-packages\\hypernetx\\classes\\entityset.py:618: FutureWarning: The default of observed=False is deprecated and will be changed to True in a future version of pandas. Pass observed=False to retain current behavior or observed=True to adopt the future default and silence this warning.\n",
      "  elements = self._dataframe.groupby(col1)[col2].unique().to_dict()\n",
      "c:\\Users\\anand\\anaconda3\\lib\\site-packages\\hypernetx\\classes\\entityset.py:618: FutureWarning: The default of observed=False is deprecated and will be changed to True in a future version of pandas. Pass observed=False to retain current behavior or observed=True to adopt the future default and silence this warning.\n",
      "  elements = self._dataframe.groupby(col1)[col2].unique().to_dict()\n",
      "c:\\Users\\anand\\anaconda3\\lib\\site-packages\\hypernetx\\classes\\entityset.py:150: DeprecationWarning: misc_props_col and misc_cell_props_col will be deprecated; all public references to these arguments will be removed in a future release.\n",
      "  warnings.warn(\n",
      "c:\\Users\\anand\\anaconda3\\lib\\site-packages\\hypernetx\\classes\\entityset.py:1494: RuntimeWarning: The values in the array are unorderable. Pass `sort=False` to suppress this warning.\n",
      "  properties = props.combine_first(self.properties)\n",
      "c:\\Users\\anand\\anaconda3\\lib\\site-packages\\hypernetx\\classes\\hypergraph.py:563: FutureWarning: This method or function will be deprecated in a future release. Public references to this method or function will be removed from the Hypergraph API in a future release.\n",
      "  self._nodes = self.E.restrict_to_levels([1])\n",
      "c:\\Users\\anand\\anaconda3\\lib\\site-packages\\hypernetx\\classes\\entityset.py:618: FutureWarning: The default of observed=False is deprecated and will be changed to True in a future version of pandas. Pass observed=False to retain current behavior or observed=True to adopt the future default and silence this warning.\n",
      "  elements = self._dataframe.groupby(col1)[col2].unique().to_dict()\n",
      "c:\\Users\\anand\\anaconda3\\lib\\site-packages\\hypernetx\\classes\\entityset.py:618: FutureWarning: The default of observed=False is deprecated and will be changed to True in a future version of pandas. Pass observed=False to retain current behavior or observed=True to adopt the future default and silence this warning.\n",
      "  elements = self._dataframe.groupby(col1)[col2].unique().to_dict()\n"
     ]
    },
    {
     "name": "stdout",
     "output_type": "stream",
     "text": [
      " Saved Hypergraph Image: Hypergraph_Images\\2020-01-27_12.png\n"
     ]
    },
    {
     "name": "stderr",
     "output_type": "stream",
     "text": [
      "c:\\Users\\anand\\anaconda3\\lib\\site-packages\\hypernetx\\classes\\entityset.py:150: DeprecationWarning: misc_props_col and misc_cell_props_col will be deprecated; all public references to these arguments will be removed in a future release.\n",
      "  warnings.warn(\n",
      "c:\\Users\\anand\\anaconda3\\lib\\site-packages\\hypernetx\\classes\\hypergraph.py:563: FutureWarning: This method or function will be deprecated in a future release. Public references to this method or function will be removed from the Hypergraph API in a future release.\n",
      "  self._nodes = self.E.restrict_to_levels([1])\n",
      "c:\\Users\\anand\\anaconda3\\lib\\site-packages\\hypernetx\\classes\\entityset.py:618: FutureWarning: The default of observed=False is deprecated and will be changed to True in a future version of pandas. Pass observed=False to retain current behavior or observed=True to adopt the future default and silence this warning.\n",
      "  elements = self._dataframe.groupby(col1)[col2].unique().to_dict()\n",
      "c:\\Users\\anand\\anaconda3\\lib\\site-packages\\hypernetx\\classes\\entityset.py:618: FutureWarning: The default of observed=False is deprecated and will be changed to True in a future version of pandas. Pass observed=False to retain current behavior or observed=True to adopt the future default and silence this warning.\n",
      "  elements = self._dataframe.groupby(col1)[col2].unique().to_dict()\n",
      "c:\\Users\\anand\\anaconda3\\lib\\site-packages\\hypernetx\\classes\\entityset.py:150: DeprecationWarning: misc_props_col and misc_cell_props_col will be deprecated; all public references to these arguments will be removed in a future release.\n",
      "  warnings.warn(\n",
      "c:\\Users\\anand\\anaconda3\\lib\\site-packages\\hypernetx\\classes\\entityset.py:1494: RuntimeWarning: The values in the array are unorderable. Pass `sort=False` to suppress this warning.\n",
      "  properties = props.combine_first(self.properties)\n",
      "c:\\Users\\anand\\anaconda3\\lib\\site-packages\\hypernetx\\classes\\hypergraph.py:563: FutureWarning: This method or function will be deprecated in a future release. Public references to this method or function will be removed from the Hypergraph API in a future release.\n",
      "  self._nodes = self.E.restrict_to_levels([1])\n",
      "c:\\Users\\anand\\anaconda3\\lib\\site-packages\\hypernetx\\classes\\entityset.py:618: FutureWarning: The default of observed=False is deprecated and will be changed to True in a future version of pandas. Pass observed=False to retain current behavior or observed=True to adopt the future default and silence this warning.\n",
      "  elements = self._dataframe.groupby(col1)[col2].unique().to_dict()\n",
      "c:\\Users\\anand\\anaconda3\\lib\\site-packages\\hypernetx\\classes\\entityset.py:618: FutureWarning: The default of observed=False is deprecated and will be changed to True in a future version of pandas. Pass observed=False to retain current behavior or observed=True to adopt the future default and silence this warning.\n",
      "  elements = self._dataframe.groupby(col1)[col2].unique().to_dict()\n"
     ]
    },
    {
     "name": "stdout",
     "output_type": "stream",
     "text": [
      " Saved Hypergraph Image: Hypergraph_Images\\2020-01-27_13.png\n"
     ]
    },
    {
     "name": "stderr",
     "output_type": "stream",
     "text": [
      "c:\\Users\\anand\\anaconda3\\lib\\site-packages\\hypernetx\\classes\\entityset.py:150: DeprecationWarning: misc_props_col and misc_cell_props_col will be deprecated; all public references to these arguments will be removed in a future release.\n",
      "  warnings.warn(\n",
      "c:\\Users\\anand\\anaconda3\\lib\\site-packages\\hypernetx\\classes\\hypergraph.py:563: FutureWarning: This method or function will be deprecated in a future release. Public references to this method or function will be removed from the Hypergraph API in a future release.\n",
      "  self._nodes = self.E.restrict_to_levels([1])\n",
      "c:\\Users\\anand\\anaconda3\\lib\\site-packages\\hypernetx\\classes\\entityset.py:618: FutureWarning: The default of observed=False is deprecated and will be changed to True in a future version of pandas. Pass observed=False to retain current behavior or observed=True to adopt the future default and silence this warning.\n",
      "  elements = self._dataframe.groupby(col1)[col2].unique().to_dict()\n",
      "c:\\Users\\anand\\anaconda3\\lib\\site-packages\\hypernetx\\classes\\entityset.py:618: FutureWarning: The default of observed=False is deprecated and will be changed to True in a future version of pandas. Pass observed=False to retain current behavior or observed=True to adopt the future default and silence this warning.\n",
      "  elements = self._dataframe.groupby(col1)[col2].unique().to_dict()\n",
      "c:\\Users\\anand\\anaconda3\\lib\\site-packages\\hypernetx\\classes\\entityset.py:150: DeprecationWarning: misc_props_col and misc_cell_props_col will be deprecated; all public references to these arguments will be removed in a future release.\n",
      "  warnings.warn(\n",
      "c:\\Users\\anand\\anaconda3\\lib\\site-packages\\hypernetx\\classes\\entityset.py:1494: RuntimeWarning: The values in the array are unorderable. Pass `sort=False` to suppress this warning.\n",
      "  properties = props.combine_first(self.properties)\n",
      "c:\\Users\\anand\\anaconda3\\lib\\site-packages\\hypernetx\\classes\\hypergraph.py:563: FutureWarning: This method or function will be deprecated in a future release. Public references to this method or function will be removed from the Hypergraph API in a future release.\n",
      "  self._nodes = self.E.restrict_to_levels([1])\n",
      "c:\\Users\\anand\\anaconda3\\lib\\site-packages\\hypernetx\\classes\\entityset.py:618: FutureWarning: The default of observed=False is deprecated and will be changed to True in a future version of pandas. Pass observed=False to retain current behavior or observed=True to adopt the future default and silence this warning.\n",
      "  elements = self._dataframe.groupby(col1)[col2].unique().to_dict()\n",
      "c:\\Users\\anand\\anaconda3\\lib\\site-packages\\hypernetx\\classes\\entityset.py:618: FutureWarning: The default of observed=False is deprecated and will be changed to True in a future version of pandas. Pass observed=False to retain current behavior or observed=True to adopt the future default and silence this warning.\n",
      "  elements = self._dataframe.groupby(col1)[col2].unique().to_dict()\n"
     ]
    },
    {
     "name": "stdout",
     "output_type": "stream",
     "text": [
      " Saved Hypergraph Image: Hypergraph_Images\\2020-01-27_14.png\n"
     ]
    },
    {
     "name": "stderr",
     "output_type": "stream",
     "text": [
      "c:\\Users\\anand\\anaconda3\\lib\\site-packages\\hypernetx\\classes\\entityset.py:150: DeprecationWarning: misc_props_col and misc_cell_props_col will be deprecated; all public references to these arguments will be removed in a future release.\n",
      "  warnings.warn(\n",
      "c:\\Users\\anand\\anaconda3\\lib\\site-packages\\hypernetx\\classes\\hypergraph.py:563: FutureWarning: This method or function will be deprecated in a future release. Public references to this method or function will be removed from the Hypergraph API in a future release.\n",
      "  self._nodes = self.E.restrict_to_levels([1])\n",
      "c:\\Users\\anand\\anaconda3\\lib\\site-packages\\hypernetx\\classes\\entityset.py:618: FutureWarning: The default of observed=False is deprecated and will be changed to True in a future version of pandas. Pass observed=False to retain current behavior or observed=True to adopt the future default and silence this warning.\n",
      "  elements = self._dataframe.groupby(col1)[col2].unique().to_dict()\n",
      "c:\\Users\\anand\\anaconda3\\lib\\site-packages\\hypernetx\\classes\\entityset.py:618: FutureWarning: The default of observed=False is deprecated and will be changed to True in a future version of pandas. Pass observed=False to retain current behavior or observed=True to adopt the future default and silence this warning.\n",
      "  elements = self._dataframe.groupby(col1)[col2].unique().to_dict()\n",
      "c:\\Users\\anand\\anaconda3\\lib\\site-packages\\hypernetx\\classes\\entityset.py:150: DeprecationWarning: misc_props_col and misc_cell_props_col will be deprecated; all public references to these arguments will be removed in a future release.\n",
      "  warnings.warn(\n",
      "c:\\Users\\anand\\anaconda3\\lib\\site-packages\\hypernetx\\classes\\entityset.py:1494: RuntimeWarning: The values in the array are unorderable. Pass `sort=False` to suppress this warning.\n",
      "  properties = props.combine_first(self.properties)\n",
      "c:\\Users\\anand\\anaconda3\\lib\\site-packages\\hypernetx\\classes\\hypergraph.py:563: FutureWarning: This method or function will be deprecated in a future release. Public references to this method or function will be removed from the Hypergraph API in a future release.\n",
      "  self._nodes = self.E.restrict_to_levels([1])\n",
      "c:\\Users\\anand\\anaconda3\\lib\\site-packages\\hypernetx\\classes\\entityset.py:618: FutureWarning: The default of observed=False is deprecated and will be changed to True in a future version of pandas. Pass observed=False to retain current behavior or observed=True to adopt the future default and silence this warning.\n",
      "  elements = self._dataframe.groupby(col1)[col2].unique().to_dict()\n",
      "c:\\Users\\anand\\anaconda3\\lib\\site-packages\\hypernetx\\classes\\entityset.py:618: FutureWarning: The default of observed=False is deprecated and will be changed to True in a future version of pandas. Pass observed=False to retain current behavior or observed=True to adopt the future default and silence this warning.\n",
      "  elements = self._dataframe.groupby(col1)[col2].unique().to_dict()\n"
     ]
    },
    {
     "name": "stdout",
     "output_type": "stream",
     "text": [
      " Saved Hypergraph Image: Hypergraph_Images\\2020-01-27_15.png\n"
     ]
    },
    {
     "name": "stderr",
     "output_type": "stream",
     "text": [
      "c:\\Users\\anand\\anaconda3\\lib\\site-packages\\hypernetx\\classes\\entityset.py:150: DeprecationWarning: misc_props_col and misc_cell_props_col will be deprecated; all public references to these arguments will be removed in a future release.\n",
      "  warnings.warn(\n",
      "c:\\Users\\anand\\anaconda3\\lib\\site-packages\\hypernetx\\classes\\hypergraph.py:563: FutureWarning: This method or function will be deprecated in a future release. Public references to this method or function will be removed from the Hypergraph API in a future release.\n",
      "  self._nodes = self.E.restrict_to_levels([1])\n",
      "c:\\Users\\anand\\anaconda3\\lib\\site-packages\\hypernetx\\classes\\entityset.py:618: FutureWarning: The default of observed=False is deprecated and will be changed to True in a future version of pandas. Pass observed=False to retain current behavior or observed=True to adopt the future default and silence this warning.\n",
      "  elements = self._dataframe.groupby(col1)[col2].unique().to_dict()\n",
      "c:\\Users\\anand\\anaconda3\\lib\\site-packages\\hypernetx\\classes\\entityset.py:618: FutureWarning: The default of observed=False is deprecated and will be changed to True in a future version of pandas. Pass observed=False to retain current behavior or observed=True to adopt the future default and silence this warning.\n",
      "  elements = self._dataframe.groupby(col1)[col2].unique().to_dict()\n",
      "c:\\Users\\anand\\anaconda3\\lib\\site-packages\\hypernetx\\classes\\entityset.py:150: DeprecationWarning: misc_props_col and misc_cell_props_col will be deprecated; all public references to these arguments will be removed in a future release.\n",
      "  warnings.warn(\n",
      "c:\\Users\\anand\\anaconda3\\lib\\site-packages\\hypernetx\\classes\\entityset.py:1494: RuntimeWarning: The values in the array are unorderable. Pass `sort=False` to suppress this warning.\n",
      "  properties = props.combine_first(self.properties)\n",
      "c:\\Users\\anand\\anaconda3\\lib\\site-packages\\hypernetx\\classes\\hypergraph.py:563: FutureWarning: This method or function will be deprecated in a future release. Public references to this method or function will be removed from the Hypergraph API in a future release.\n",
      "  self._nodes = self.E.restrict_to_levels([1])\n",
      "c:\\Users\\anand\\anaconda3\\lib\\site-packages\\hypernetx\\classes\\entityset.py:618: FutureWarning: The default of observed=False is deprecated and will be changed to True in a future version of pandas. Pass observed=False to retain current behavior or observed=True to adopt the future default and silence this warning.\n",
      "  elements = self._dataframe.groupby(col1)[col2].unique().to_dict()\n",
      "c:\\Users\\anand\\anaconda3\\lib\\site-packages\\hypernetx\\classes\\entityset.py:618: FutureWarning: The default of observed=False is deprecated and will be changed to True in a future version of pandas. Pass observed=False to retain current behavior or observed=True to adopt the future default and silence this warning.\n",
      "  elements = self._dataframe.groupby(col1)[col2].unique().to_dict()\n"
     ]
    },
    {
     "name": "stdout",
     "output_type": "stream",
     "text": [
      " Saved Hypergraph Image: Hypergraph_Images\\2020-01-27_16.png\n"
     ]
    },
    {
     "name": "stderr",
     "output_type": "stream",
     "text": [
      "c:\\Users\\anand\\anaconda3\\lib\\site-packages\\hypernetx\\classes\\entityset.py:150: DeprecationWarning: misc_props_col and misc_cell_props_col will be deprecated; all public references to these arguments will be removed in a future release.\n",
      "  warnings.warn(\n",
      "c:\\Users\\anand\\anaconda3\\lib\\site-packages\\hypernetx\\classes\\hypergraph.py:563: FutureWarning: This method or function will be deprecated in a future release. Public references to this method or function will be removed from the Hypergraph API in a future release.\n",
      "  self._nodes = self.E.restrict_to_levels([1])\n",
      "c:\\Users\\anand\\anaconda3\\lib\\site-packages\\hypernetx\\classes\\entityset.py:618: FutureWarning: The default of observed=False is deprecated and will be changed to True in a future version of pandas. Pass observed=False to retain current behavior or observed=True to adopt the future default and silence this warning.\n",
      "  elements = self._dataframe.groupby(col1)[col2].unique().to_dict()\n",
      "c:\\Users\\anand\\anaconda3\\lib\\site-packages\\hypernetx\\classes\\entityset.py:618: FutureWarning: The default of observed=False is deprecated and will be changed to True in a future version of pandas. Pass observed=False to retain current behavior or observed=True to adopt the future default and silence this warning.\n",
      "  elements = self._dataframe.groupby(col1)[col2].unique().to_dict()\n",
      "c:\\Users\\anand\\anaconda3\\lib\\site-packages\\hypernetx\\classes\\entityset.py:150: DeprecationWarning: misc_props_col and misc_cell_props_col will be deprecated; all public references to these arguments will be removed in a future release.\n",
      "  warnings.warn(\n",
      "c:\\Users\\anand\\anaconda3\\lib\\site-packages\\hypernetx\\classes\\entityset.py:1494: RuntimeWarning: The values in the array are unorderable. Pass `sort=False` to suppress this warning.\n",
      "  properties = props.combine_first(self.properties)\n",
      "c:\\Users\\anand\\anaconda3\\lib\\site-packages\\hypernetx\\classes\\hypergraph.py:563: FutureWarning: This method or function will be deprecated in a future release. Public references to this method or function will be removed from the Hypergraph API in a future release.\n",
      "  self._nodes = self.E.restrict_to_levels([1])\n",
      "c:\\Users\\anand\\anaconda3\\lib\\site-packages\\hypernetx\\classes\\entityset.py:618: FutureWarning: The default of observed=False is deprecated and will be changed to True in a future version of pandas. Pass observed=False to retain current behavior or observed=True to adopt the future default and silence this warning.\n",
      "  elements = self._dataframe.groupby(col1)[col2].unique().to_dict()\n",
      "c:\\Users\\anand\\anaconda3\\lib\\site-packages\\hypernetx\\classes\\entityset.py:618: FutureWarning: The default of observed=False is deprecated and will be changed to True in a future version of pandas. Pass observed=False to retain current behavior or observed=True to adopt the future default and silence this warning.\n",
      "  elements = self._dataframe.groupby(col1)[col2].unique().to_dict()\n"
     ]
    },
    {
     "name": "stdout",
     "output_type": "stream",
     "text": [
      " Saved Hypergraph Image: Hypergraph_Images\\2020-01-27_17.png\n"
     ]
    },
    {
     "name": "stderr",
     "output_type": "stream",
     "text": [
      "c:\\Users\\anand\\anaconda3\\lib\\site-packages\\hypernetx\\classes\\entityset.py:150: DeprecationWarning: misc_props_col and misc_cell_props_col will be deprecated; all public references to these arguments will be removed in a future release.\n",
      "  warnings.warn(\n",
      "c:\\Users\\anand\\anaconda3\\lib\\site-packages\\hypernetx\\classes\\hypergraph.py:563: FutureWarning: This method or function will be deprecated in a future release. Public references to this method or function will be removed from the Hypergraph API in a future release.\n",
      "  self._nodes = self.E.restrict_to_levels([1])\n",
      "c:\\Users\\anand\\anaconda3\\lib\\site-packages\\hypernetx\\classes\\entityset.py:618: FutureWarning: The default of observed=False is deprecated and will be changed to True in a future version of pandas. Pass observed=False to retain current behavior or observed=True to adopt the future default and silence this warning.\n",
      "  elements = self._dataframe.groupby(col1)[col2].unique().to_dict()\n",
      "c:\\Users\\anand\\anaconda3\\lib\\site-packages\\hypernetx\\classes\\entityset.py:618: FutureWarning: The default of observed=False is deprecated and will be changed to True in a future version of pandas. Pass observed=False to retain current behavior or observed=True to adopt the future default and silence this warning.\n",
      "  elements = self._dataframe.groupby(col1)[col2].unique().to_dict()\n",
      "c:\\Users\\anand\\anaconda3\\lib\\site-packages\\hypernetx\\classes\\entityset.py:150: DeprecationWarning: misc_props_col and misc_cell_props_col will be deprecated; all public references to these arguments will be removed in a future release.\n",
      "  warnings.warn(\n",
      "c:\\Users\\anand\\anaconda3\\lib\\site-packages\\hypernetx\\classes\\entityset.py:1494: RuntimeWarning: The values in the array are unorderable. Pass `sort=False` to suppress this warning.\n",
      "  properties = props.combine_first(self.properties)\n",
      "c:\\Users\\anand\\anaconda3\\lib\\site-packages\\hypernetx\\classes\\hypergraph.py:563: FutureWarning: This method or function will be deprecated in a future release. Public references to this method or function will be removed from the Hypergraph API in a future release.\n",
      "  self._nodes = self.E.restrict_to_levels([1])\n",
      "c:\\Users\\anand\\anaconda3\\lib\\site-packages\\hypernetx\\classes\\entityset.py:618: FutureWarning: The default of observed=False is deprecated and will be changed to True in a future version of pandas. Pass observed=False to retain current behavior or observed=True to adopt the future default and silence this warning.\n",
      "  elements = self._dataframe.groupby(col1)[col2].unique().to_dict()\n",
      "c:\\Users\\anand\\anaconda3\\lib\\site-packages\\hypernetx\\classes\\entityset.py:618: FutureWarning: The default of observed=False is deprecated and will be changed to True in a future version of pandas. Pass observed=False to retain current behavior or observed=True to adopt the future default and silence this warning.\n",
      "  elements = self._dataframe.groupby(col1)[col2].unique().to_dict()\n"
     ]
    },
    {
     "name": "stdout",
     "output_type": "stream",
     "text": [
      " Saved Hypergraph Image: Hypergraph_Images\\2020-01-27_18.png\n"
     ]
    },
    {
     "name": "stderr",
     "output_type": "stream",
     "text": [
      "c:\\Users\\anand\\anaconda3\\lib\\site-packages\\hypernetx\\classes\\entityset.py:150: DeprecationWarning: misc_props_col and misc_cell_props_col will be deprecated; all public references to these arguments will be removed in a future release.\n",
      "  warnings.warn(\n",
      "c:\\Users\\anand\\anaconda3\\lib\\site-packages\\hypernetx\\classes\\hypergraph.py:563: FutureWarning: This method or function will be deprecated in a future release. Public references to this method or function will be removed from the Hypergraph API in a future release.\n",
      "  self._nodes = self.E.restrict_to_levels([1])\n",
      "c:\\Users\\anand\\anaconda3\\lib\\site-packages\\hypernetx\\classes\\entityset.py:618: FutureWarning: The default of observed=False is deprecated and will be changed to True in a future version of pandas. Pass observed=False to retain current behavior or observed=True to adopt the future default and silence this warning.\n",
      "  elements = self._dataframe.groupby(col1)[col2].unique().to_dict()\n",
      "c:\\Users\\anand\\anaconda3\\lib\\site-packages\\hypernetx\\classes\\entityset.py:618: FutureWarning: The default of observed=False is deprecated and will be changed to True in a future version of pandas. Pass observed=False to retain current behavior or observed=True to adopt the future default and silence this warning.\n",
      "  elements = self._dataframe.groupby(col1)[col2].unique().to_dict()\n",
      "c:\\Users\\anand\\anaconda3\\lib\\site-packages\\hypernetx\\classes\\entityset.py:150: DeprecationWarning: misc_props_col and misc_cell_props_col will be deprecated; all public references to these arguments will be removed in a future release.\n",
      "  warnings.warn(\n",
      "c:\\Users\\anand\\anaconda3\\lib\\site-packages\\hypernetx\\classes\\entityset.py:1494: RuntimeWarning: The values in the array are unorderable. Pass `sort=False` to suppress this warning.\n",
      "  properties = props.combine_first(self.properties)\n",
      "c:\\Users\\anand\\anaconda3\\lib\\site-packages\\hypernetx\\classes\\hypergraph.py:563: FutureWarning: This method or function will be deprecated in a future release. Public references to this method or function will be removed from the Hypergraph API in a future release.\n",
      "  self._nodes = self.E.restrict_to_levels([1])\n",
      "c:\\Users\\anand\\anaconda3\\lib\\site-packages\\hypernetx\\classes\\entityset.py:618: FutureWarning: The default of observed=False is deprecated and will be changed to True in a future version of pandas. Pass observed=False to retain current behavior or observed=True to adopt the future default and silence this warning.\n",
      "  elements = self._dataframe.groupby(col1)[col2].unique().to_dict()\n",
      "c:\\Users\\anand\\anaconda3\\lib\\site-packages\\hypernetx\\classes\\entityset.py:618: FutureWarning: The default of observed=False is deprecated and will be changed to True in a future version of pandas. Pass observed=False to retain current behavior or observed=True to adopt the future default and silence this warning.\n",
      "  elements = self._dataframe.groupby(col1)[col2].unique().to_dict()\n"
     ]
    },
    {
     "name": "stdout",
     "output_type": "stream",
     "text": [
      " Saved Hypergraph Image: Hypergraph_Images\\2020-01-27_19.png\n"
     ]
    },
    {
     "name": "stderr",
     "output_type": "stream",
     "text": [
      "c:\\Users\\anand\\anaconda3\\lib\\site-packages\\hypernetx\\classes\\entityset.py:150: DeprecationWarning: misc_props_col and misc_cell_props_col will be deprecated; all public references to these arguments will be removed in a future release.\n",
      "  warnings.warn(\n",
      "c:\\Users\\anand\\anaconda3\\lib\\site-packages\\hypernetx\\classes\\hypergraph.py:563: FutureWarning: This method or function will be deprecated in a future release. Public references to this method or function will be removed from the Hypergraph API in a future release.\n",
      "  self._nodes = self.E.restrict_to_levels([1])\n",
      "c:\\Users\\anand\\anaconda3\\lib\\site-packages\\hypernetx\\classes\\entityset.py:618: FutureWarning: The default of observed=False is deprecated and will be changed to True in a future version of pandas. Pass observed=False to retain current behavior or observed=True to adopt the future default and silence this warning.\n",
      "  elements = self._dataframe.groupby(col1)[col2].unique().to_dict()\n",
      "c:\\Users\\anand\\anaconda3\\lib\\site-packages\\hypernetx\\classes\\entityset.py:618: FutureWarning: The default of observed=False is deprecated and will be changed to True in a future version of pandas. Pass observed=False to retain current behavior or observed=True to adopt the future default and silence this warning.\n",
      "  elements = self._dataframe.groupby(col1)[col2].unique().to_dict()\n",
      "c:\\Users\\anand\\anaconda3\\lib\\site-packages\\hypernetx\\classes\\entityset.py:150: DeprecationWarning: misc_props_col and misc_cell_props_col will be deprecated; all public references to these arguments will be removed in a future release.\n",
      "  warnings.warn(\n",
      "c:\\Users\\anand\\anaconda3\\lib\\site-packages\\hypernetx\\classes\\entityset.py:1494: RuntimeWarning: The values in the array are unorderable. Pass `sort=False` to suppress this warning.\n",
      "  properties = props.combine_first(self.properties)\n",
      "c:\\Users\\anand\\anaconda3\\lib\\site-packages\\hypernetx\\classes\\hypergraph.py:563: FutureWarning: This method or function will be deprecated in a future release. Public references to this method or function will be removed from the Hypergraph API in a future release.\n",
      "  self._nodes = self.E.restrict_to_levels([1])\n",
      "c:\\Users\\anand\\anaconda3\\lib\\site-packages\\hypernetx\\classes\\entityset.py:618: FutureWarning: The default of observed=False is deprecated and will be changed to True in a future version of pandas. Pass observed=False to retain current behavior or observed=True to adopt the future default and silence this warning.\n",
      "  elements = self._dataframe.groupby(col1)[col2].unique().to_dict()\n",
      "c:\\Users\\anand\\anaconda3\\lib\\site-packages\\hypernetx\\classes\\entityset.py:618: FutureWarning: The default of observed=False is deprecated and will be changed to True in a future version of pandas. Pass observed=False to retain current behavior or observed=True to adopt the future default and silence this warning.\n",
      "  elements = self._dataframe.groupby(col1)[col2].unique().to_dict()\n"
     ]
    },
    {
     "name": "stdout",
     "output_type": "stream",
     "text": [
      " Saved Hypergraph Image: Hypergraph_Images\\2020-01-27_20.png\n"
     ]
    },
    {
     "name": "stderr",
     "output_type": "stream",
     "text": [
      "c:\\Users\\anand\\anaconda3\\lib\\site-packages\\hypernetx\\classes\\entityset.py:150: DeprecationWarning: misc_props_col and misc_cell_props_col will be deprecated; all public references to these arguments will be removed in a future release.\n",
      "  warnings.warn(\n",
      "c:\\Users\\anand\\anaconda3\\lib\\site-packages\\hypernetx\\classes\\hypergraph.py:563: FutureWarning: This method or function will be deprecated in a future release. Public references to this method or function will be removed from the Hypergraph API in a future release.\n",
      "  self._nodes = self.E.restrict_to_levels([1])\n",
      "c:\\Users\\anand\\anaconda3\\lib\\site-packages\\hypernetx\\classes\\entityset.py:618: FutureWarning: The default of observed=False is deprecated and will be changed to True in a future version of pandas. Pass observed=False to retain current behavior or observed=True to adopt the future default and silence this warning.\n",
      "  elements = self._dataframe.groupby(col1)[col2].unique().to_dict()\n",
      "c:\\Users\\anand\\anaconda3\\lib\\site-packages\\hypernetx\\classes\\entityset.py:618: FutureWarning: The default of observed=False is deprecated and will be changed to True in a future version of pandas. Pass observed=False to retain current behavior or observed=True to adopt the future default and silence this warning.\n",
      "  elements = self._dataframe.groupby(col1)[col2].unique().to_dict()\n",
      "c:\\Users\\anand\\anaconda3\\lib\\site-packages\\hypernetx\\classes\\entityset.py:150: DeprecationWarning: misc_props_col and misc_cell_props_col will be deprecated; all public references to these arguments will be removed in a future release.\n",
      "  warnings.warn(\n",
      "c:\\Users\\anand\\anaconda3\\lib\\site-packages\\hypernetx\\classes\\entityset.py:1494: RuntimeWarning: The values in the array are unorderable. Pass `sort=False` to suppress this warning.\n",
      "  properties = props.combine_first(self.properties)\n",
      "c:\\Users\\anand\\anaconda3\\lib\\site-packages\\hypernetx\\classes\\hypergraph.py:563: FutureWarning: This method or function will be deprecated in a future release. Public references to this method or function will be removed from the Hypergraph API in a future release.\n",
      "  self._nodes = self.E.restrict_to_levels([1])\n",
      "c:\\Users\\anand\\anaconda3\\lib\\site-packages\\hypernetx\\classes\\entityset.py:618: FutureWarning: The default of observed=False is deprecated and will be changed to True in a future version of pandas. Pass observed=False to retain current behavior or observed=True to adopt the future default and silence this warning.\n",
      "  elements = self._dataframe.groupby(col1)[col2].unique().to_dict()\n",
      "c:\\Users\\anand\\anaconda3\\lib\\site-packages\\hypernetx\\classes\\entityset.py:618: FutureWarning: The default of observed=False is deprecated and will be changed to True in a future version of pandas. Pass observed=False to retain current behavior or observed=True to adopt the future default and silence this warning.\n",
      "  elements = self._dataframe.groupby(col1)[col2].unique().to_dict()\n"
     ]
    },
    {
     "name": "stdout",
     "output_type": "stream",
     "text": [
      " Saved Hypergraph Image: Hypergraph_Images\\2020-01-27_21.png\n"
     ]
    },
    {
     "name": "stderr",
     "output_type": "stream",
     "text": [
      "c:\\Users\\anand\\anaconda3\\lib\\site-packages\\hypernetx\\classes\\entityset.py:150: DeprecationWarning: misc_props_col and misc_cell_props_col will be deprecated; all public references to these arguments will be removed in a future release.\n",
      "  warnings.warn(\n",
      "c:\\Users\\anand\\anaconda3\\lib\\site-packages\\hypernetx\\classes\\hypergraph.py:563: FutureWarning: This method or function will be deprecated in a future release. Public references to this method or function will be removed from the Hypergraph API in a future release.\n",
      "  self._nodes = self.E.restrict_to_levels([1])\n",
      "c:\\Users\\anand\\anaconda3\\lib\\site-packages\\hypernetx\\classes\\entityset.py:618: FutureWarning: The default of observed=False is deprecated and will be changed to True in a future version of pandas. Pass observed=False to retain current behavior or observed=True to adopt the future default and silence this warning.\n",
      "  elements = self._dataframe.groupby(col1)[col2].unique().to_dict()\n",
      "c:\\Users\\anand\\anaconda3\\lib\\site-packages\\hypernetx\\classes\\entityset.py:618: FutureWarning: The default of observed=False is deprecated and will be changed to True in a future version of pandas. Pass observed=False to retain current behavior or observed=True to adopt the future default and silence this warning.\n",
      "  elements = self._dataframe.groupby(col1)[col2].unique().to_dict()\n",
      "c:\\Users\\anand\\anaconda3\\lib\\site-packages\\hypernetx\\classes\\entityset.py:150: DeprecationWarning: misc_props_col and misc_cell_props_col will be deprecated; all public references to these arguments will be removed in a future release.\n",
      "  warnings.warn(\n",
      "c:\\Users\\anand\\anaconda3\\lib\\site-packages\\hypernetx\\classes\\entityset.py:1494: RuntimeWarning: The values in the array are unorderable. Pass `sort=False` to suppress this warning.\n",
      "  properties = props.combine_first(self.properties)\n",
      "c:\\Users\\anand\\anaconda3\\lib\\site-packages\\hypernetx\\classes\\hypergraph.py:563: FutureWarning: This method or function will be deprecated in a future release. Public references to this method or function will be removed from the Hypergraph API in a future release.\n",
      "  self._nodes = self.E.restrict_to_levels([1])\n",
      "c:\\Users\\anand\\anaconda3\\lib\\site-packages\\hypernetx\\classes\\entityset.py:618: FutureWarning: The default of observed=False is deprecated and will be changed to True in a future version of pandas. Pass observed=False to retain current behavior or observed=True to adopt the future default and silence this warning.\n",
      "  elements = self._dataframe.groupby(col1)[col2].unique().to_dict()\n",
      "c:\\Users\\anand\\anaconda3\\lib\\site-packages\\hypernetx\\classes\\entityset.py:618: FutureWarning: The default of observed=False is deprecated and will be changed to True in a future version of pandas. Pass observed=False to retain current behavior or observed=True to adopt the future default and silence this warning.\n",
      "  elements = self._dataframe.groupby(col1)[col2].unique().to_dict()\n"
     ]
    },
    {
     "name": "stdout",
     "output_type": "stream",
     "text": [
      " Saved Hypergraph Image: Hypergraph_Images\\2020-01-27_22.png\n"
     ]
    },
    {
     "name": "stderr",
     "output_type": "stream",
     "text": [
      "c:\\Users\\anand\\anaconda3\\lib\\site-packages\\hypernetx\\classes\\entityset.py:150: DeprecationWarning: misc_props_col and misc_cell_props_col will be deprecated; all public references to these arguments will be removed in a future release.\n",
      "  warnings.warn(\n",
      "c:\\Users\\anand\\anaconda3\\lib\\site-packages\\hypernetx\\classes\\hypergraph.py:563: FutureWarning: This method or function will be deprecated in a future release. Public references to this method or function will be removed from the Hypergraph API in a future release.\n",
      "  self._nodes = self.E.restrict_to_levels([1])\n",
      "c:\\Users\\anand\\anaconda3\\lib\\site-packages\\hypernetx\\classes\\entityset.py:618: FutureWarning: The default of observed=False is deprecated and will be changed to True in a future version of pandas. Pass observed=False to retain current behavior or observed=True to adopt the future default and silence this warning.\n",
      "  elements = self._dataframe.groupby(col1)[col2].unique().to_dict()\n",
      "c:\\Users\\anand\\anaconda3\\lib\\site-packages\\hypernetx\\classes\\entityset.py:618: FutureWarning: The default of observed=False is deprecated and will be changed to True in a future version of pandas. Pass observed=False to retain current behavior or observed=True to adopt the future default and silence this warning.\n",
      "  elements = self._dataframe.groupby(col1)[col2].unique().to_dict()\n",
      "c:\\Users\\anand\\anaconda3\\lib\\site-packages\\hypernetx\\classes\\entityset.py:150: DeprecationWarning: misc_props_col and misc_cell_props_col will be deprecated; all public references to these arguments will be removed in a future release.\n",
      "  warnings.warn(\n",
      "c:\\Users\\anand\\anaconda3\\lib\\site-packages\\hypernetx\\classes\\entityset.py:1494: RuntimeWarning: The values in the array are unorderable. Pass `sort=False` to suppress this warning.\n",
      "  properties = props.combine_first(self.properties)\n",
      "c:\\Users\\anand\\anaconda3\\lib\\site-packages\\hypernetx\\classes\\hypergraph.py:563: FutureWarning: This method or function will be deprecated in a future release. Public references to this method or function will be removed from the Hypergraph API in a future release.\n",
      "  self._nodes = self.E.restrict_to_levels([1])\n",
      "c:\\Users\\anand\\anaconda3\\lib\\site-packages\\hypernetx\\classes\\entityset.py:618: FutureWarning: The default of observed=False is deprecated and will be changed to True in a future version of pandas. Pass observed=False to retain current behavior or observed=True to adopt the future default and silence this warning.\n",
      "  elements = self._dataframe.groupby(col1)[col2].unique().to_dict()\n",
      "c:\\Users\\anand\\anaconda3\\lib\\site-packages\\hypernetx\\classes\\entityset.py:618: FutureWarning: The default of observed=False is deprecated and will be changed to True in a future version of pandas. Pass observed=False to retain current behavior or observed=True to adopt the future default and silence this warning.\n",
      "  elements = self._dataframe.groupby(col1)[col2].unique().to_dict()\n"
     ]
    },
    {
     "name": "stdout",
     "output_type": "stream",
     "text": [
      " Saved Hypergraph Image: Hypergraph_Images\\2020-01-27_23.png\n"
     ]
    }
   ],
   "source": [
    "import os\n",
    "import json\n",
    "import hypernetx as hnx\n",
    "import matplotlib.pyplot as plt\n",
    "\n",
    "# Input and Output Folder Paths\n",
    "input_folder = \"Hypergraph_JSONs\"  # Folder containing JSON hypergraphs\n",
    "output_folder = \"Hypergraph_Images\"  # Folder to save images\n",
    "os.makedirs(output_folder, exist_ok=True)  # Create output folder if it doesn't exist\n",
    "\n",
    "# Process each stored hypergraph JSON file\n",
    "for file_name in sorted(os.listdir(input_folder)):\n",
    "    if file_name.endswith(\".json\"):\n",
    "        file_path = os.path.join(input_folder, file_name)\n",
    "\n",
    "        # Load JSON hypergraph data\n",
    "        with open(file_path, \"r\") as json_file:\n",
    "            hypergraph_data = json.load(json_file)\n",
    "\n",
    "        # Create the hypergraph\n",
    "        H = hnx.Hypergraph(hypergraph_data)\n",
    "\n",
    "        # Plot the hypergraph\n",
    "        fig, ax = plt.subplots(figsize=(8, 6))\n",
    "        hnx.draw(H, with_edge_labels=False, with_node_labels=False, ax=ax)\n",
    "        plt.title(f\"Hypergraph: {file_name.replace('.json', '')}\")\n",
    "\n",
    "        # Save the image\n",
    "        output_path = os.path.join(output_folder, file_name.replace(\".json\", \".png\"))\n",
    "        plt.savefig(output_path, dpi=300, bbox_inches=\"tight\")\n",
    "        plt.close()\n",
    "\n",
    "        print(f\" Saved Hypergraph Image: {output_path}\")\n"
   ]
  },
  {
   "cell_type": "code",
   "execution_count": 11,
   "metadata": {},
   "outputs": [
    {
     "name": "stdout",
     "output_type": "stream",
     "text": [
      "  influential nodes saved in: Influential_Nodes(Hourly)\n"
     ]
    }
   ],
   "source": [
    "import os\n",
    "import json\n",
    "import pandas as pd\n",
    "from collections import defaultdict\n",
    "\n",
    "# Input folder containing JSON hypergraphs\n",
    "input_folder = \"Hypergraph_JSONs\"\n",
    "\n",
    "# Output folder for storing influential node results\n",
    "output_folder = \"Influential_Nodes(Hourly)\"\n",
    "os.makedirs(output_folder, exist_ok=True)\n",
    "\n",
    "# Process each JSON file\n",
    "for file_name in sorted(os.listdir(input_folder)):\n",
    "    if file_name.endswith(\".json\"):\n",
    "        file_path = os.path.join(input_folder, file_name)\n",
    "\n",
    "        # Load JSON hypergraph data\n",
    "        with open(file_path, \"r\") as json_file:\n",
    "            hypergraph_data = json.load(json_file)\n",
    "\n",
    "        # Dictionary to store node degrees for this time frame\n",
    "        node_degree_count = defaultdict(int)\n",
    "\n",
    "        # Count how many unique hyperedges (tokens) each node is part of\n",
    "        for token, nodes in hypergraph_data.items():\n",
    "            for node in nodes:\n",
    "                node_degree_count[node] += 1  # Increment degree count for this node\n",
    "\n",
    "        # Convert to DataFrame\n",
    "        df = pd.DataFrame(list(node_degree_count.items()), columns=[\"Node\", \"Degree\"])\n",
    "\n",
    "        # Sort by Degree (Descending), then by Node ID (Ascending)\n",
    "        df = df.sort_values(by=[\"Degree\", \"Node\"], ascending=[False, True])\n",
    "\n",
    "        # Save results to CSV (same name as JSON, but in new folder)\n",
    "        output_file = os.path.join(output_folder, file_name.replace(\".json\", \".csv\"))\n",
    "        df.to_csv(output_file, index=False)\n",
    "\n",
    "print(f\"  influential nodes saved in: {output_folder}\")\n"
   ]
  },
  {
   "cell_type": "code",
   "execution_count": null,
   "metadata": {},
   "outputs": [
    {
     "name": "stdout",
     "output_type": "stream",
     "text": [
      " Process completed! Matrices and partitions stored successfully.\n"
     ]
    }
   ],
   "source": [
    "import os\n",
    "import json\n",
    "import numpy as np\n",
    "from numpy.linalg import eigh\n",
    "\n",
    "# Directories\n",
    "input_folder = \"Hypergraph_JSONs\"\n",
    "incidence_folder = \"Incidence_Matrices\"\n",
    "degree_folder = \"Degree_Matrices\"\n",
    "partition_folder = \"Partitioned_Hypergraphs\"\n",
    "\n",
    "os.makedirs(incidence_folder, exist_ok=True)\n",
    "os.makedirs(degree_folder, exist_ok=True)\n",
    "os.makedirs(partition_folder, exist_ok=True)\n",
    "\n",
    "for file_name in os.listdir(input_folder):\n",
    "    if file_name.endswith(\".json\"):\n",
    "        file_path = os.path.join(input_folder, file_name)\n",
    "        \n",
    "        with open(file_path, \"r\") as f:\n",
    "            hyperedges = json.load(f)\n",
    "\n",
    "        all_nodes = set()\n",
    "        edge_labels = list(hyperedges.keys())\n",
    "        for nodes in hyperedges.values():\n",
    "            all_nodes.update(nodes)\n",
    "        \n",
    "        all_nodes = sorted(list(all_nodes))\n",
    "        node_index = {node: i for i, node in enumerate(all_nodes)}\n",
    "        \n",
    "        H = np.zeros((len(all_nodes), len(edge_labels)))\n",
    "        for j, edge in enumerate(edge_labels):\n",
    "            for node in hyperedges[edge]:\n",
    "                H[node_index[node], j] = 1\n",
    "\n",
    "        d_v = np.sum(H, axis=1)\n",
    "        D_v = np.diag(d_v)\n",
    "\n",
    "        d_e = np.sum(H, axis=0)\n",
    "        D_e = np.diag(d_e)\n",
    "\n",
    "        with open(os.path.join(incidence_folder, file_name), \"w\") as f:\n",
    "            json.dump(H.tolist(), f, indent=4)\n",
    "\n",
    "        degree_data = {\"D_v\": D_v.tolist(), \"D_e\": D_e.tolist()}\n",
    "        with open(os.path.join(degree_folder, file_name), \"w\") as f:\n",
    "            json.dump(degree_data, f, indent=4)\n",
    "\n",
    "        D_v_inv_sqrt = np.diag(1.0 / np.sqrt(d_v + 1e-10))\n",
    "        D_e_inv = np.diag(1.0 / (d_e + 1e-10))\n",
    "        H_term = D_v_inv_sqrt @ H @ D_e_inv @ H.T @ D_v_inv_sqrt\n",
    "        L = np.eye(len(all_nodes)) - H_term\n",
    "\n",
    "        eigenvalues, eigenvectors = eigh(L)\n",
    "        fiedler_vector = eigenvectors[:, 1]\n",
    "\n",
    "        cluster1 = [node for i, node in enumerate(all_nodes) if fiedler_vector[i] >= 0]\n",
    "        cluster2 = [node for i, node in enumerate(all_nodes) if fiedler_vector[i] < 0]\n",
    "\n",
    "        partition_data = {\"Cluster_1\": cluster1, \"Cluster_2\": cluster2}\n",
    "        with open(os.path.join(partition_folder, file_name), \"w\") as f:\n",
    "            json.dump(partition_data, f, indent=4)\n",
    "\n",
    "print(\" Process completed! Matrices and partitions stored successfully.\")\n"
   ]
  }
 ],
 "metadata": {
  "kernelspec": {
   "display_name": "base",
   "language": "python",
   "name": "python3"
  },
  "language_info": {
   "codemirror_mode": {
    "name": "ipython",
    "version": 3
   },
   "file_extension": ".py",
   "mimetype": "text/x-python",
   "name": "python",
   "nbconvert_exporter": "python",
   "pygments_lexer": "ipython3",
   "version": "3.9.13"
  }
 },
 "nbformat": 4,
 "nbformat_minor": 2
}
